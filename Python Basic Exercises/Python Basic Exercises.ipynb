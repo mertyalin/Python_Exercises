{
 "cells": [
  {
   "cell_type": "markdown",
   "id": "ff482130",
   "metadata": {},
   "source": [
    "# Exercise 1: Calculate the multiplication and sum of two numbers\n",
    "\n",
    "Given two integer numbers, return their product only if the product is equal to or lower than 1000. Otherwise, return their sum."
   ]
  },
  {
   "cell_type": "code",
   "execution_count": 4,
   "id": "7f1fc725",
   "metadata": {},
   "outputs": [
    {
     "name": "stdout",
     "output_type": "stream",
     "text": [
      "The result is: 600\n",
      "The result is: 100\n"
     ]
    }
   ],
   "source": [
    "def multi_sum(x, y):\n",
    "    \n",
    "    product = x * y\n",
    "    if product <= 1000:\n",
    "        return product\n",
    "    else:\n",
    "        return x + y\n",
    "\n",
    "result = multi_sum(20, 30)\n",
    "\n",
    "print(\"The result is: \" + str(result))\n",
    "\n",
    "result = multi_sum(40, 60)\n",
    "\n",
    "print(\"The result is: \" + str(result))"
   ]
  },
  {
   "cell_type": "markdown",
   "id": "31e8a9f1",
   "metadata": {},
   "source": [
    "# Exercise 2: Print the sum of the current number and the previous number\n",
    "\n",
    "Write a program to iterate the first 10 numbers, and in each iteration, print the sum of the current and previous number."
   ]
  },
  {
   "cell_type": "code",
   "execution_count": 10,
   "id": "577a3d2c",
   "metadata": {
    "scrolled": true
   },
   "outputs": [
    {
     "name": "stdout",
     "output_type": "stream",
     "text": [
      "Printing current and previous number and their sum in a range(10)\n",
      "Current Number 0 Previous Number  0  Sum:  0\n",
      "Current Number 1 Previous Number  0  Sum:  1\n",
      "Current Number 2 Previous Number  1  Sum:  3\n",
      "Current Number 3 Previous Number  2  Sum:  5\n",
      "Current Number 4 Previous Number  3  Sum:  7\n",
      "Current Number 5 Previous Number  4  Sum:  9\n",
      "Current Number 6 Previous Number  5  Sum:  11\n",
      "Current Number 7 Previous Number  6  Sum:  13\n",
      "Current Number 8 Previous Number  7  Sum:  15\n",
      "Current Number 9 Previous Number  8  Sum:  17\n"
     ]
    }
   ],
   "source": [
    "print(\"Printing current and previous number and their sum in a range(10)\")\n",
    "\n",
    "previous_num = 0\n",
    "\n",
    "for i in range(0, 10):\n",
    "    x_sum = previous_num + i\n",
    "    print(\"Current Number\", i, \"Previous Number \", previous_num, \" Sum: \", x_sum)\n",
    "    \n",
    "    previous_num = i"
   ]
  },
  {
   "cell_type": "markdown",
   "id": "61bcbc18",
   "metadata": {},
   "source": [
    "# Exercise 3: Print characters from a string that are present at an even index number\n",
    "\n",
    "Write a program to accept a string from the user and display characters that are present at an even index number.\n",
    "\n",
    "For example, str = \"pynative\" so you should display ‘p’, ‘n’, ‘t’, ‘v’."
   ]
  },
  {
   "cell_type": "code",
   "execution_count": 11,
   "id": "b2fbddbf",
   "metadata": {
    "scrolled": true
   },
   "outputs": [
    {
     "name": "stdout",
     "output_type": "stream",
     "text": [
      "Enter word Abdulhamit\n",
      "Original String: Abdulhamit\n",
      "A\n",
      "d\n",
      "l\n",
      "a\n",
      "i\n"
     ]
    }
   ],
   "source": [
    "word = input('Enter word ')\n",
    "print(\"Original String:\", word)\n",
    "\n",
    "x = list(word)\n",
    "for i in x[0::2]:\n",
    "    print(i)\n"
   ]
  },
  {
   "cell_type": "markdown",
   "id": "70ca51f9",
   "metadata": {},
   "source": [
    "# Exercise 4: Remove first n characters from a string\n",
    "\n",
    "Write a program to remove characters from a string starting from zero up to n and return a new string.\n",
    "\n",
    "For example:\n",
    "\n",
    "remove_chars(\"pynative\", 4) so output must be tive. Here, we need to remove the first four characters from a string.\n",
    "\n",
    "remove_chars(\"pynative\", 2) so output must be native. Here, we need to remove the first two characters from a string.\n",
    "\n",
    "Note: n must be less than the length of the string."
   ]
  },
  {
   "cell_type": "code",
   "execution_count": 14,
   "id": "b1300cdc",
   "metadata": {},
   "outputs": [
    {
     "name": "stdout",
     "output_type": "stream",
     "text": [
      "Original string: pynative\n",
      "tive\n",
      "Original string: pynative\n",
      "native\n"
     ]
    }
   ],
   "source": [
    "def remove_chars(word, n):\n",
    "    \n",
    "    print('Original string:', word)\n",
    "    \n",
    "    x = word[n:]\n",
    "    return x\n",
    "\n",
    "print(remove_chars(\"pynative\", 4))\n",
    "print(remove_chars(\"pynative\", 2))\n"
   ]
  },
  {
   "cell_type": "markdown",
   "id": "9e6f6aa1",
   "metadata": {},
   "source": [
    "# Exercise 5: Check if the first and last number of a list is the same\n",
    "\n",
    "Write a function to return True if the first and last number of a given list is same. If numbers are different then return False."
   ]
  },
  {
   "cell_type": "code",
   "execution_count": 16,
   "id": "340b1552",
   "metadata": {},
   "outputs": [
    {
     "name": "stdout",
     "output_type": "stream",
     "text": [
      "Given List:  [10, 20, 30, 40, 10]\n",
      "Result is True\n",
      "Given List:  [75, 65, 35, 75, 30]\n",
      "Result is False\n"
     ]
    }
   ],
   "source": [
    "def equal_list(numberList):\n",
    "    \n",
    "    print(\"Given List: \", numberList)\n",
    "    \n",
    "    first = numberList[0]\n",
    "    last = numberList[-1]\n",
    "    \n",
    "    if first == last:\n",
    "        return True\n",
    "    else:\n",
    "        return False\n",
    "    \n",
    "numbers_x = [10, 20, 30, 40, 10]\n",
    "print(\"Result is\", equal_list(numbers_x))\n",
    "\n",
    "numbers_y = [75, 65, 35, 75, 30]\n",
    "print(\"Result is\", equal_list(numbers_y))\n",
    "\n"
   ]
  },
  {
   "cell_type": "markdown",
   "id": "52e8914a",
   "metadata": {},
   "source": [
    "# Exercise 6: Display numbers divisible by 5 from a list\n",
    "\n",
    "Iterate the given list of numbers and print only those numbers which are divisible by 5"
   ]
  },
  {
   "cell_type": "code",
   "execution_count": 5,
   "id": "960a3b2e",
   "metadata": {},
   "outputs": [
    {
     "name": "stdout",
     "output_type": "stream",
     "text": [
      "Given List:  [10, 20, 33, 46, 55]\n",
      "Divisible by 5\n",
      "10\n",
      "20\n",
      "55\n",
      "None\n"
     ]
    }
   ],
   "source": [
    "def divisible_5(givenlist):\n",
    "\n",
    "    print(\"Given List: \", givenlist)\n",
    "    \n",
    "    print(\"Divisible by 5\")\n",
    "    \n",
    "    for i in givenlist:\n",
    "        if i % 5 == 0:\n",
    "            print(i)\n",
    "        \n",
    "list = [10, 20, 33, 46, 55]\n",
    "\n",
    "print(divisible_5(list))"
   ]
  },
  {
   "cell_type": "markdown",
   "id": "1ee5726b",
   "metadata": {},
   "source": [
    "# Exercise 7: Return the count of a given substring from a string\n",
    "\n",
    "Write a program to find how many times substring “Emma” appears in the given string.\n",
    "\n"
   ]
  },
  {
   "cell_type": "code",
   "execution_count": 9,
   "id": "c585469a",
   "metadata": {},
   "outputs": [
    {
     "name": "stdout",
     "output_type": "stream",
     "text": [
      "Emma appeared 2 times.\n"
     ]
    }
   ],
   "source": [
    "str_x = \"Emma is good developer. Emma is a writer\"\n",
    "\n",
    "print(\"Emma appeared \" + str(str_x.count('Emma')) + \" times.\")"
   ]
  },
  {
   "cell_type": "markdown",
   "id": "d2e3542a",
   "metadata": {},
   "source": [
    "# Exercise 8: Print the following pattern"
   ]
  },
  {
   "attachments": {
    "Go%CC%88ru%CC%88ntu%CC%88%2031-10-2023%2014.47.jpg": {
     "image/jpeg": "[encoded data removed]"
    }
   },
   "cell_type": "markdown",
   "id": "329de25f",
   "metadata": {},
   "source": [
    "![Go%CC%88ru%CC%88ntu%CC%88%2031-10-2023%2014.47.jpg](attachment:Go%CC%88ru%CC%88ntu%CC%88%2031-10-2023%2014.47.jpg)"
   ]
  },
  {
   "cell_type": "code",
   "execution_count": 3,
   "id": "ed13d449",
   "metadata": {
    "scrolled": false
   },
   "outputs": [
    {
     "name": "stdout",
     "output_type": "stream",
     "text": [
      "1 \n",
      "\n",
      "2 2 \n",
      "\n",
      "3 3 3 \n",
      "\n",
      "4 4 4 4 \n",
      "\n",
      "5 5 5 5 5 \n",
      "\n"
     ]
    }
   ],
   "source": [
    "for num in range(1,6):\n",
    "    for i in range(num):\n",
    "        print(num, end = ' ')\n",
    "    print(\"\\n\")"
   ]
  },
  {
   "cell_type": "markdown",
   "id": "c9750d7e",
   "metadata": {},
   "source": [
    "# Exercise 9: Check Palindrome Number\n",
    "\n",
    "Write a program to check if the given number is a palindrome number.\n",
    "\n",
    "A palindrome number is a number that is the same after reverse. For example, 545, is the palindrome numbers"
   ]
  },
  {
   "cell_type": "code",
   "execution_count": 3,
   "id": "70b1633f",
   "metadata": {},
   "outputs": [
    {
     "name": "stdout",
     "output_type": "stream",
     "text": [
      "Original number is 121\n",
      "Given number is palindrome.\n",
      "Original number is 125\n",
      "Given number is not palindrome.\n"
     ]
    }
   ],
   "source": [
    "def palindrome(number):\n",
    "    print(\"Original number is\", number)\n",
    "    original_num = number\n",
    "    \n",
    "    reverse_num = 0\n",
    "    while number > 0:\n",
    "        reminder = number % 10\n",
    "        reverse_num = (reverse_num * 10) + reminder\n",
    "        number = number // 10\n",
    "\n",
    "    if original_num == reverse_num:\n",
    "        print(\"Given number is palindrome.\")\n",
    "    else:\n",
    "        print(\"Given number is not palindrome.\")\n",
    "\n",
    "palindrome(121)\n",
    "palindrome(125)\n",
    "\n"
   ]
  },
  {
   "cell_type": "markdown",
   "id": "2c6c0734",
   "metadata": {},
   "source": [
    "# Exercise 10: Create a new list from two list using the following condition"
   ]
  },
  {
   "cell_type": "markdown",
   "id": "3bd9620a",
   "metadata": {},
   "source": [
    "Create a new list from two list using the following condition\n",
    "\n",
    "Given two list of numbers, write a program to create a new list such that the new list should contain odd numbers from the first list and even numbers from the second list."
   ]
  },
  {
   "cell_type": "code",
   "execution_count": 10,
   "id": "3d0d83bf",
   "metadata": {},
   "outputs": [
    {
     "name": "stdout",
     "output_type": "stream",
     "text": [
      "Result List: [25, 35, 40, 60, 90]\n"
     ]
    }
   ],
   "source": [
    "def lists(list1, list2):\n",
    "    \n",
    "    result_list = []\n",
    "    \n",
    "    for i in list1:\n",
    "        if i % 2 == 1:\n",
    "            result_list.append(i)\n",
    "       \n",
    "    \n",
    "    for k in list2:\n",
    "        if k % 2 == 0:\n",
    "            result_list.append(k)\n",
    "    \n",
    "    return result_list\n",
    "\n",
    "list1 = [10, 20, 25, 30, 35]\n",
    "list2 = [40, 45, 60, 75, 90]\n",
    "\n",
    "print(\"Result List:\", lists(list1, list2))\n",
    "    \n",
    "\n",
    "            \n",
    "    "
   ]
  },
  {
   "cell_type": "markdown",
   "id": "b53aa98b",
   "metadata": {},
   "source": [
    "# Exercise 11: Write a Program to extract each digit from an integer in the reverse order."
   ]
  },
  {
   "cell_type": "markdown",
   "id": "d4d930fa",
   "metadata": {},
   "source": [
    "For example, If the given int is 7536, the output shall be “6 3 5 7“, with a space separating the digits."
   ]
  },
  {
   "cell_type": "code",
   "execution_count": 12,
   "id": "fd92c125",
   "metadata": {},
   "outputs": [
    {
     "name": "stdout",
     "output_type": "stream",
     "text": [
      "Given number:  7536\n",
      "6 3 5 7 "
     ]
    }
   ],
   "source": [
    "number = 7536\n",
    "\n",
    "print(\"Given number: \", number)\n",
    "\n",
    "while number > 0:\n",
    "    \n",
    "    digit = number % 10\n",
    "    \n",
    "    number = number // 10\n",
    "    \n",
    "    print(digit, end=\" \")"
   ]
  },
  {
   "cell_type": "markdown",
   "id": "73ff5629",
   "metadata": {},
   "source": [
    "# Exercise 12: Calculate income tax for the given income by adhering to the rules below"
   ]
  },
  {
   "attachments": {
    "Go%CC%88ru%CC%88ntu%CC%88%2002-11-2023%2016.51.jpg": {
     "image/jpeg": "[encoded data removed]"
    }
   },
   "cell_type": "markdown",
   "id": "e2911e33",
   "metadata": {},
   "source": [
    "![Go%CC%88ru%CC%88ntu%CC%88%2002-11-2023%2016.51.jpg](attachment:Go%CC%88ru%CC%88ntu%CC%88%2002-11-2023%2016.51.jpg)"
   ]
  },
  {
   "cell_type": "markdown",
   "id": "fe5e2e41",
   "metadata": {},
   "source": [
    "Expected Output:\n",
    "\n",
    "For example, suppose the taxable income is 45000, and the income tax payable is\n",
    "\n",
    "10000 * 0% + 10000 * 10%  + 25000 * 20 % = $6000."
   ]
  },
  {
   "cell_type": "code",
   "execution_count": 17,
   "id": "fadb5bef",
   "metadata": {},
   "outputs": [
    {
     "name": "stdout",
     "output_type": "stream",
     "text": [
      "Income: 45000\n",
      "Total tax to pay is 6000.0\n"
     ]
    }
   ],
   "source": [
    "income = 45000\n",
    "\n",
    "tax_payable = 0\n",
    "\n",
    "print(\"Income:\", income)\n",
    "\n",
    "if income <= 10000:\n",
    "    \n",
    "    tax_payable = 0\n",
    "\n",
    "elif income <= 20000:\n",
    "    \n",
    "    x = income - 10000\n",
    "    \n",
    "    tax_payable = x * 10 / 100\n",
    "\n",
    "else:\n",
    "    \n",
    "    tax_payable = 0\n",
    "\n",
    "    tax_payable = 10000 * 10 / 100\n",
    "\n",
    "    tax_payable += (income - 20000) * 20 / 100\n",
    "\n",
    "print(\"Total tax to pay is\", tax_payable)"
   ]
  },
  {
   "cell_type": "markdown",
   "id": "c56ff7b6",
   "metadata": {},
   "source": [
    "# Exercise 13: Print multiplication table from 1 to 10"
   ]
  },
  {
   "cell_type": "code",
   "execution_count": 18,
   "id": "6916deee",
   "metadata": {},
   "outputs": [
    {
     "name": "stdout",
     "output_type": "stream",
     "text": [
      "1 2 3 4 5 6 7 8 9 10 \t\t\n",
      "2 4 6 8 10 12 14 16 18 20 \t\t\n",
      "3 6 9 12 15 18 21 24 27 30 \t\t\n",
      "4 8 12 16 20 24 28 32 36 40 \t\t\n",
      "5 10 15 20 25 30 35 40 45 50 \t\t\n",
      "6 12 18 24 30 36 42 48 54 60 \t\t\n",
      "7 14 21 28 35 42 49 56 63 70 \t\t\n",
      "8 16 24 32 40 48 56 64 72 80 \t\t\n",
      "9 18 27 36 45 54 63 72 81 90 \t\t\n",
      "10 20 30 40 50 60 70 80 90 100 \t\t\n"
     ]
    }
   ],
   "source": [
    "for i in range(1, 11):\n",
    "    for k in range(1, 11):\n",
    "        print(i * k, end=\" \")\n",
    "    print(\"\\t\\t\")"
   ]
  },
  {
   "cell_type": "markdown",
   "id": "8997085d",
   "metadata": {},
   "source": [
    "# Exercise 14: Print a downward Half-Pyramid Pattern of Star (asterisk)"
   ]
  },
  {
   "cell_type": "code",
   "execution_count": 19,
   "id": "2ba09f24",
   "metadata": {},
   "outputs": [
    {
     "name": "stdout",
     "output_type": "stream",
     "text": [
      "* * * * *  \n",
      "* * * *  \n",
      "* * *  \n",
      "* *  \n",
      "*  \n",
      " \n"
     ]
    }
   ],
   "source": [
    "for i in range(6, 0, -1):\n",
    "    for j in range(0, i - 1):\n",
    "        print(\"*\", end=' ')\n",
    "    print(\" \")"
   ]
  },
  {
   "cell_type": "markdown",
   "id": "0cdfcb22",
   "metadata": {},
   "source": [
    "# Exercise 15: Write a function called exponent(base, exp) that returns an int value of base raises to the power of exp."
   ]
  },
  {
   "cell_type": "code",
   "execution_count": 20,
   "id": "3726de4d",
   "metadata": {},
   "outputs": [
    {
     "name": "stdout",
     "output_type": "stream",
     "text": [
      "5 raises to the power of 4 is:  625\n"
     ]
    }
   ],
   "source": [
    "def exponent(base, exp):\n",
    "    num = exp\n",
    "    result = 1\n",
    "    while num > 0:\n",
    "        result = result * base\n",
    "        num = num - 1\n",
    "    print(base, \"raises to the power of\", exp, \"is: \", result)\n",
    "\n",
    "exponent(5, 4)"
   ]
  },
  {
   "cell_type": "code",
   "execution_count": null,
   "id": "867fa630",
   "metadata": {},
   "outputs": [],
   "source": []
  }
 ],
 "metadata": {
  "kernelspec": {
   "display_name": "Python 3 (ipykernel)",
   "language": "python",
   "name": "python3"
  },
  "language_info": {
   "codemirror_mode": {
    "name": "ipython",
    "version": 3
   },
   "file_extension": ".py",
   "mimetype": "text/x-python",
   "name": "python",
   "nbconvert_exporter": "python",
   "pygments_lexer": "ipython3",
   "version": "3.11.5"
  }
 },
 "nbformat": 4,
 "nbformat_minor": 5
}
