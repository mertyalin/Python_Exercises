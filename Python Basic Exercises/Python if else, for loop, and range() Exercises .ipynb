{
 "cells": [
  {
   "cell_type": "markdown",
   "id": "e9c32313",
   "metadata": {},
   "source": [
    "# Exercise 1: Print First 10 natural numbers using while loop"
   ]
  },
  {
   "cell_type": "code",
   "execution_count": 3,
   "id": "ea392d08",
   "metadata": {},
   "outputs": [
    {
     "name": "stdout",
     "output_type": "stream",
     "text": [
      "1\n",
      "2\n",
      "3\n",
      "4\n",
      "5\n",
      "6\n",
      "7\n",
      "8\n",
      "9\n",
      "10\n"
     ]
    }
   ],
   "source": [
    "i = 1\n",
    "while i <= 10:\n",
    "    print(i)\n",
    "    i += 1"
   ]
  },
  {
   "cell_type": "markdown",
   "id": "ac09ee02",
   "metadata": {},
   "source": [
    "# Exercise 2: Print the following pattern\n",
    "\n",
    "Write a program to print the following number pattern using a loop."
   ]
  },
  {
   "attachments": {
    "Go%CC%88ru%CC%88ntu%CC%88%2002-11-2023%2019.59.jpg": {
     "image/jpeg": "[encoded data removed]"
    }
   },
   "cell_type": "markdown",
   "id": "ad9225eb",
   "metadata": {},
   "source": [
    "![Go%CC%88ru%CC%88ntu%CC%88%2002-11-2023%2019.59.jpg](attachment:Go%CC%88ru%CC%88ntu%CC%88%2002-11-2023%2019.59.jpg)"
   ]
  },
  {
   "cell_type": "code",
   "execution_count": 19,
   "id": "99e34f39",
   "metadata": {},
   "outputs": [
    {
     "name": "stdout",
     "output_type": "stream",
     "text": [
      "Number Pattern \n",
      "1 \n",
      "1 2 \n",
      "1 2 3 \n",
      "1 2 3 4 \n",
      "1 2 3 4 5 \n"
     ]
    }
   ],
   "source": [
    "print(\"Number Pattern \")\n",
    "\n",
    "row = 5\n",
    "\n",
    "for i in range(1, row + 1, 1):\n",
    "    \n",
    "    for j in range(1, i + 1):\n",
    "        print(j, end=' ')\n",
    "    \n",
    "    print(\"\")\n",
    "\n",
    "    \n"
   ]
  },
  {
   "cell_type": "markdown",
   "id": "403c15f1",
   "metadata": {},
   "source": [
    "# Exercise 3: Calculate the sum of all numbers from 1 to a given number\n",
    "\n",
    "Write a program to accept a number from a user and calculate the sum of all numbers from 1 to a given number\n",
    "\n",
    "For example, if the user entered 10 the output should be 55 (1+2+3+4+5+6+7+8+9+10)"
   ]
  },
  {
   "cell_type": "code",
   "execution_count": 20,
   "id": "38b71eb9",
   "metadata": {},
   "outputs": [
    {
     "name": "stdout",
     "output_type": "stream",
     "text": [
      "Enter number: 4\n",
      "\n",
      "\n",
      "Sum is:  10\n"
     ]
    }
   ],
   "source": [
    "s = 0\n",
    "n = int(input(\"Enter number: \"))\n",
    "\n",
    "for i in range(1, n + 1, 1):\n",
    "    s += i\n",
    "print(\"\\n\")\n",
    "print(\"Sum is: \", s)\n"
   ]
  },
  {
   "cell_type": "markdown",
   "id": "5279d9fe",
   "metadata": {},
   "source": [
    "# Exercise 5: Display numbers from a list using loop\n",
    "\n",
    "Write a program to display only those numbers from a list that satisfy the following conditions\n",
    "\n",
    "\n",
    "The number must be divisible by five\n",
    "If the number is greater than 150, then skip it and move to the next number\n",
    "If the number is greater than 500, then stop the loop\n",
    "\n",
    "Given:\n",
    "numbers = [12, 75, 150, 180, 145, 525, 50]"
   ]
  },
  {
   "cell_type": "code",
   "execution_count": 22,
   "id": "e63bf6e6",
   "metadata": {},
   "outputs": [
    {
     "name": "stdout",
     "output_type": "stream",
     "text": [
      "75\n",
      "150\n",
      "145\n"
     ]
    }
   ],
   "source": [
    "numbers = [12, 75, 150, 180, 145, 525, 50]\n",
    "\n",
    "for i in numbers:\n",
    "    if i > 500:\n",
    "        break\n",
    "    elif i > 150:\n",
    "        continue\n",
    "    elif i % 5 == 0:\n",
    "        print(i)\n",
    "        \n",
    "    "
   ]
  },
  {
   "cell_type": "markdown",
   "id": "8b8a529b",
   "metadata": {},
   "source": [
    "# Exercise 6: Count the total number of digits in a number\n",
    "\n",
    "Write a program to count the total number of digits in a number using a while loop.\n",
    "\n",
    "For example, the number is 75869, so the output should be 5."
   ]
  },
  {
   "cell_type": "code",
   "execution_count": 23,
   "id": "d6ef7fde",
   "metadata": {},
   "outputs": [
    {
     "name": "stdout",
     "output_type": "stream",
     "text": [
      "Total digits are: 5\n"
     ]
    }
   ],
   "source": [
    "num = 75869\n",
    "count = 0\n",
    "\n",
    "while num != 0:\n",
    "    num = num // 10\n",
    "    count = count + 1\n",
    "\n",
    "print(\"Total digits are:\", count)\n",
    "\n"
   ]
  },
  {
   "cell_type": "markdown",
   "id": "55d96e5f",
   "metadata": {},
   "source": [
    "# Exercise 7: Print list in reverse order using a loop"
   ]
  },
  {
   "cell_type": "code",
   "execution_count": 26,
   "id": "5118693c",
   "metadata": {},
   "outputs": [
    {
     "name": "stdout",
     "output_type": "stream",
     "text": [
      "50\n",
      "40\n",
      "30\n",
      "20\n",
      "10\n"
     ]
    }
   ],
   "source": [
    "list1 = [10, 20, 30, 40, 50]\n",
    "\n",
    "list1 = reversed(list1)\n",
    "\n",
    "for i in list1:\n",
    "    print(i)\n",
    "\n"
   ]
  },
  {
   "cell_type": "markdown",
   "id": "1f716f03",
   "metadata": {},
   "source": [
    "# Exercise 8: Display numbers from -10 to -1 using for loop"
   ]
  },
  {
   "cell_type": "code",
   "execution_count": 27,
   "id": "a6f90d17",
   "metadata": {},
   "outputs": [
    {
     "name": "stdout",
     "output_type": "stream",
     "text": [
      "-10\n",
      "-9\n",
      "-8\n",
      "-7\n",
      "-6\n",
      "-5\n",
      "-4\n",
      "-3\n",
      "-2\n",
      "-1\n"
     ]
    }
   ],
   "source": [
    "for i in range(-10,0):\n",
    "    print(i)"
   ]
  },
  {
   "cell_type": "markdown",
   "id": "2656c180",
   "metadata": {},
   "source": [
    "# Exercise 9: Use else block to display a message “Done” after successful execution of for loop"
   ]
  },
  {
   "cell_type": "code",
   "execution_count": 32,
   "id": "c7e8ea9f",
   "metadata": {},
   "outputs": [
    {
     "name": "stdout",
     "output_type": "stream",
     "text": [
      "0\n",
      "1\n",
      "2\n",
      "3\n",
      "4\n",
      "Done!\n"
     ]
    }
   ],
   "source": [
    "for i in range(5):\n",
    "    print(i)\n",
    "else:\n",
    "    print(\"Done!\")"
   ]
  },
  {
   "cell_type": "markdown",
   "id": "881e16c4",
   "metadata": {},
   "source": [
    "# Exercise 10: Write a program to display all prime numbers within a range\n"
   ]
  },
  {
   "cell_type": "markdown",
   "id": "46b731df",
   "metadata": {},
   "source": [
    "##### Note: A Prime Number is a number that cannot be made by multiplying other whole numbers. A prime number is a natural number greater than 1 that is not a product of two smaller natural numbers"
   ]
  },
  {
   "cell_type": "code",
   "execution_count": 39,
   "id": "01a3d84f",
   "metadata": {
    "scrolled": false
   },
   "outputs": [
    {
     "name": "stdout",
     "output_type": "stream",
     "text": [
      "Prime numbers between 25 and 50 are:\n",
      "29\n",
      "31\n",
      "37\n",
      "41\n",
      "43\n",
      "47\n"
     ]
    }
   ],
   "source": [
    "start = 25\n",
    "end = 50\n",
    "\n",
    "print(\"Prime numbers between\", start, \"and\", end, \"are:\")\n",
    "\n",
    "for num in range(start, end + 1):\n",
    "    \n",
    "    if num > 1:\n",
    "        for i in range(2, num):\n",
    "            if (num % i) == 0:\n",
    "                break\n",
    "        else:\n",
    "            print(num)"
   ]
  },
  {
   "cell_type": "markdown",
   "id": "abf8dad4",
   "metadata": {},
   "source": [
    "# Exercise 11: Display Fibonacci series up to 10 terms"
   ]
  },
  {
   "cell_type": "code",
   "execution_count": 40,
   "id": "10d8d88b",
   "metadata": {},
   "outputs": [
    {
     "name": "stdout",
     "output_type": "stream",
     "text": [
      "Fibonacci sequence:\n",
      "0  1  1  2  3  5  8  13  21  34  "
     ]
    }
   ],
   "source": [
    "num1, num2 = 0, 1\n",
    "\n",
    "print(\"Fibonacci sequence:\")\n",
    "\n",
    "for i in range(10):\n",
    "    print(num1, end=\"  \")\n",
    "   \n",
    "    res = num1 + num2\n",
    "\n",
    "    num1 = num2\n",
    "    num2 = res\n"
   ]
  },
  {
   "cell_type": "markdown",
   "id": "6076fa67",
   "metadata": {},
   "source": [
    "# Exercise 12: Find the factorial of a given number\n",
    "\n",
    "Write a program to use the loop to find the factorial of a given number.\n",
    "\n",
    "The factorial (symbol: !) means to multiply all whole numbers from the chosen number down to 1."
   ]
  },
  {
   "cell_type": "code",
   "execution_count": 52,
   "id": "a1892f36",
   "metadata": {},
   "outputs": [
    {
     "name": "stdout",
     "output_type": "stream",
     "text": [
      "The factorial of 5 is 120\n"
     ]
    }
   ],
   "source": [
    "num = 5\n",
    "factorial = 1\n",
    "\n",
    "if num < 0:\n",
    "    print(\"Factorial does not exist for negative numbers\")\n",
    "\n",
    "elif num == 0:\n",
    "    print(\"The factorial of 0 is 1\")\n",
    "\n",
    "else:\n",
    "    for i in range(1, num + 1):\n",
    "        factorial = factorial * i\n",
    "    print(\"The factorial of\", num, \"is\", factorial)\n"
   ]
  },
  {
   "cell_type": "markdown",
   "id": "660eb9f0",
   "metadata": {},
   "source": [
    "# Exercise 13: Reverse a given integer number"
   ]
  },
  {
   "cell_type": "code",
   "execution_count": 63,
   "id": "184e83f8",
   "metadata": {},
   "outputs": [
    {
     "name": "stdout",
     "output_type": "stream",
     "text": [
      "Given Number:  76542\n",
      "Reverse Number:  24567\n"
     ]
    }
   ],
   "source": [
    "num = 76542\n",
    "reverse_number = 0\n",
    "\n",
    "print(\"Given Number: \", num)\n",
    "\n",
    "while num > 0:\n",
    "    reminder = num % 10\n",
    "    reverse_number = (reverse_number * 10) + reminder\n",
    "    num = num // 10\n",
    "\n",
    "print(\"Reverse Number: \", reverse_number)"
   ]
  },
  {
   "cell_type": "markdown",
   "id": "3a696315",
   "metadata": {},
   "source": [
    "# Exercise 14: Use a loop to display elements from a given list present at odd index positions"
   ]
  },
  {
   "cell_type": "code",
   "execution_count": 79,
   "id": "1c1e5c20",
   "metadata": {},
   "outputs": [
    {
     "name": "stdout",
     "output_type": "stream",
     "text": [
      "20 40 60 80 100 "
     ]
    }
   ],
   "source": [
    "my_list = [10, 20, 30, 40, 50, 60, 70, 80, 90, 100]\n",
    "\n",
    "for i in my_list[1::2]:\n",
    "    print(i, end=\" \")"
   ]
  },
  {
   "cell_type": "markdown",
   "id": "61c9e06e",
   "metadata": {},
   "source": [
    "# Exercise 15: Calculate the cube of all numbers from 1 to a given number"
   ]
  },
  {
   "cell_type": "code",
   "execution_count": 83,
   "id": "c203391e",
   "metadata": {},
   "outputs": [
    {
     "name": "stdout",
     "output_type": "stream",
     "text": [
      "Please enter number!5\n",
      "Current number:  1 and the cube is 1\n",
      "Current number:  2 and the cube is 8\n",
      "Current number:  3 and the cube is 27\n",
      "Current number:  4 and the cube is 64\n"
     ]
    }
   ],
   "source": [
    "num = int(input(\"Please enter number!\"))\n",
    "\n",
    "for i in range(1, num):\n",
    "    print(\"Current number: \", i , \"and the cube is\", i*i*i)"
   ]
  },
  {
   "cell_type": "markdown",
   "id": "514dd41c",
   "metadata": {},
   "source": [
    "# Exercise 16: Find the sum of the series upto n terms\n",
    "\n",
    "Write a program to calculate the sum of series up to n term. For example, if n =5 the series will become 2 + 22 + 222 + 2222 + 22222 = 24690"
   ]
  },
  {
   "cell_type": "code",
   "execution_count": 86,
   "id": "2194e275",
   "metadata": {},
   "outputs": [
    {
     "name": "stdout",
     "output_type": "stream",
     "text": [
      "3+32+322+3222+32222+\n",
      "Sum of above series is: 35801\n"
     ]
    }
   ],
   "source": [
    "n = 5\n",
    "start = 3\n",
    "sum_seq = 0\n",
    "\n",
    "for i in range(0, n):\n",
    "    print(start, end=\"+\")\n",
    "    sum_seq += start\n",
    "    start = start * 10 + 2\n",
    "\n",
    "print(\"\\nSum of above series is:\", sum_seq)\n"
   ]
  },
  {
   "cell_type": "code",
   "execution_count": null,
   "id": "e49d76bf",
   "metadata": {},
   "outputs": [],
   "source": []
  }
 ],
 "metadata": {
  "kernelspec": {
   "display_name": "Python 3 (ipykernel)",
   "language": "python",
   "name": "python3"
  },
  "language_info": {
   "codemirror_mode": {
    "name": "ipython",
    "version": 3
   },
   "file_extension": ".py",
   "mimetype": "text/x-python",
   "name": "python",
   "nbconvert_exporter": "python",
   "pygments_lexer": "ipython3",
   "version": "3.11.5"
  }
 },
 "nbformat": 4,
 "nbformat_minor": 5
}
