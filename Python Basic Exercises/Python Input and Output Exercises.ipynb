{
 "cells": [
  {
   "cell_type": "markdown",
   "id": "2dfc9e56",
   "metadata": {},
   "source": [
    "# Exercise 1: Accept numbers from a user"
   ]
  },
  {
   "cell_type": "markdown",
   "id": "e0cf9698",
   "metadata": {},
   "source": [
    "Write a program to accept two numbers from the user and calculate multiplication"
   ]
  },
  {
   "cell_type": "code",
   "execution_count": 5,
   "id": "d46a63eb",
   "metadata": {},
   "outputs": [
    {
     "name": "stdout",
     "output_type": "stream",
     "text": [
      "Enter first number:3\n",
      "Enter second number:4\n",
      "Multiplication of two numbers:  12\n"
     ]
    }
   ],
   "source": [
    "num1 = int(input(\"Enter first number:\"))\n",
    "num2 = int(input(\"Enter second number:\"))\n",
    "\n",
    "num3 = num1 * num2\n",
    "\n",
    "print(\"Multiplication of two numbers: \", num3 )\n",
    "\n"
   ]
  },
  {
   "cell_type": "markdown",
   "id": "8925254d",
   "metadata": {},
   "source": [
    "# Exercise 2: Display three string “Name”, “Is”, “James” as “Name**Is**James”"
   ]
  },
  {
   "cell_type": "code",
   "execution_count": 6,
   "id": "c436809a",
   "metadata": {},
   "outputs": [
    {
     "name": "stdout",
     "output_type": "stream",
     "text": [
      "Name**Is**James\n"
     ]
    }
   ],
   "source": [
    "print('Name', 'Is', 'James', sep='**')"
   ]
  },
  {
   "cell_type": "markdown",
   "id": "6f5d735b",
   "metadata": {},
   "source": [
    "# Exercise 3: Convert Decimal number to octal using print() output formatting"
   ]
  },
  {
   "cell_type": "code",
   "execution_count": 7,
   "id": "ad5903c8",
   "metadata": {},
   "outputs": [
    {
     "name": "stdout",
     "output_type": "stream",
     "text": [
      "10\n"
     ]
    }
   ],
   "source": [
    "num = 8\n",
    "print('%o' % num)"
   ]
  },
  {
   "cell_type": "markdown",
   "id": "0445ca62",
   "metadata": {},
   "source": [
    "# Exercise 4: Display float number with 2 decimal places using print()"
   ]
  },
  {
   "cell_type": "code",
   "execution_count": 8,
   "id": "19bc524f",
   "metadata": {},
   "outputs": [
    {
     "name": "stdout",
     "output_type": "stream",
     "text": [
      "458.54\n"
     ]
    }
   ],
   "source": [
    "num = 458.541315\n",
    "print('%.2f' % num)"
   ]
  },
  {
   "cell_type": "markdown",
   "id": "55988783",
   "metadata": {},
   "source": [
    "# Exercise 5: Accept a list of 5 float numbers as an input from the user"
   ]
  },
  {
   "cell_type": "code",
   "execution_count": 1,
   "id": "a97526ce",
   "metadata": {},
   "outputs": [
    {
     "name": "stdout",
     "output_type": "stream",
     "text": [
      "Enter  1 . number:\n",
      "34\n",
      "Enter  2 . number:\n",
      "34\n",
      "Enter  3 . number:\n",
      "3243\n",
      "Enter  4 . number:\n",
      "434657\n",
      "Enter  5 . number:\n",
      "2323\n",
      "User List: [34.0, 34.0, 3243.0, 434657.0, 2323.0]\n"
     ]
    }
   ],
   "source": [
    "numbers = []\n",
    "\n",
    "for i in range(1, 6):\n",
    "    print(\"Enter \", i,\". number:\")\n",
    "    \n",
    "    item = float(input())\n",
    "    \n",
    "    numbers.append(item)\n",
    "\n",
    "print(\"User List:\", numbers)"
   ]
  },
  {
   "cell_type": "markdown",
   "id": "9bccf0f4",
   "metadata": {},
   "source": [
    "# Exercise 7: Accept any three string from one input() call\n",
    "\n",
    "Write a program to take three names as input from a user in the single input() function call."
   ]
  },
  {
   "cell_type": "code",
   "execution_count": 1,
   "id": "1db65842",
   "metadata": {},
   "outputs": [
    {
     "name": "stdout",
     "output_type": "stream",
     "text": [
      "Enter three string: mert mert mert\n",
      "Name 1: mert\n",
      "Name 2: mert\n",
      "Name 3: mert\n"
     ]
    }
   ],
   "source": [
    "str1, str2, str3 = input(\"Enter three string: \").split()\n",
    "print('Name 1:', str1)\n",
    "print('Name 2:', str2)\n",
    "print('Name 3:', str3)"
   ]
  },
  {
   "cell_type": "code",
   "execution_count": null,
   "id": "2812bb21",
   "metadata": {},
   "outputs": [],
   "source": []
  }
 ],
 "metadata": {
  "kernelspec": {
   "display_name": "Python 3 (ipykernel)",
   "language": "python",
   "name": "python3"
  },
  "language_info": {
   "codemirror_mode": {
    "name": "ipython",
    "version": 3
   },
   "file_extension": ".py",
   "mimetype": "text/x-python",
   "name": "python",
   "nbconvert_exporter": "python",
   "pygments_lexer": "ipython3",
   "version": "3.11.5"
  }
 },
 "nbformat": 4,
 "nbformat_minor": 5
}
