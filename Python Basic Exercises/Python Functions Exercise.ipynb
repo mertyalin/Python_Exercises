{
 "cells": [
  {
   "cell_type": "markdown",
   "id": "d401909f",
   "metadata": {},
   "source": [
    "# Exercise 1: Create a function in Python\n",
    "\n",
    "Write a program to create a function that takes two arguments, name and age, and print their value."
   ]
  },
  {
   "cell_type": "code",
   "execution_count": 3,
   "id": "ec4ea103",
   "metadata": {},
   "outputs": [
    {
     "name": "stdout",
     "output_type": "stream",
     "text": [
      "Her/His name is  Mert  and her/his age is  27\n"
     ]
    }
   ],
   "source": [
    "def person(name, age):\n",
    "    print(\"Her/His name is \",name, \" and her/his age is \", age)\n",
    "\n",
    "person(\"Mert\", 27)"
   ]
  },
  {
   "cell_type": "markdown",
   "id": "c03f6080",
   "metadata": {},
   "source": [
    "# Exercise 2: Create a function with variable length of arguments\n",
    "\n",
    "Write a program to create function func1() to accept a variable length of arguments and print their value.\n",
    "\n",
    "Note: Create a function in such a way that we can pass any number of arguments to this function, and the function should process them and display each argument’s value."
   ]
  },
  {
   "cell_type": "code",
   "execution_count": 7,
   "id": "de1f7edb",
   "metadata": {},
   "outputs": [
    {
     "name": "stdout",
     "output_type": "stream",
     "text": [
      "Person Information:\n",
      "Name:  Mert Age:  27 Other:  Amsterdam\n"
     ]
    }
   ],
   "source": [
    "def func1(name, age, *args):\n",
    "    print(\"Person Information:\")\n",
    "    print(\"Name: \", name, \"Age: \",age, \"Other: \", *args)\n",
    "    \n",
    "func1(\"Mert\", 27, \"Amsterdam\")"
   ]
  },
  {
   "cell_type": "markdown",
   "id": "2bab0fbf",
   "metadata": {},
   "source": [
    "# Exercise 3: Return multiple values from a function\n",
    "\n",
    "Write a program to create function calculation() such that it can accept two variables and calculate addition and subtraction. Also, it must return both addition and subtraction in a single return call."
   ]
  },
  {
   "cell_type": "code",
   "execution_count": 9,
   "id": "16f29b0c",
   "metadata": {},
   "outputs": [
    {
     "name": "stdout",
     "output_type": "stream",
     "text": [
      "The sum of two numbers: 46 Difference of two numbers: 22\n"
     ]
    },
    {
     "data": {
      "text/plain": [
       "(46, 22)"
      ]
     },
     "execution_count": 9,
     "metadata": {},
     "output_type": "execute_result"
    }
   ],
   "source": [
    "def calculation(num1, num2):\n",
    "    add = num1 + num2\n",
    "    subt = num1 - num2\n",
    "    print(\"The sum of two numbers:\", add, \"Difference of two numbers:\", subt)\n",
    "    return(add, subt)\n",
    "calculation(34, 12)"
   ]
  },
  {
   "cell_type": "markdown",
   "id": "ebac0d71",
   "metadata": {},
   "source": [
    "# Exercise 4: Create a function with a default argument\n",
    "\n",
    "Write a program to create a function show_employee() using the following conditions.\n",
    "\n",
    "It should accept the employee’s name and salary and display both.\n",
    "If the salary is missing in the function call then assign default value 9000 to salary"
   ]
  },
  {
   "cell_type": "code",
   "execution_count": 11,
   "id": "fbbd3db5",
   "metadata": {},
   "outputs": [
    {
     "name": "stdout",
     "output_type": "stream",
     "text": [
      "Name: Ben Salary: 12000\n",
      "Name: Jessa Salary: 9000\n"
     ]
    }
   ],
   "source": [
    "def showEmployee(name, salary=9000):\n",
    "    print(\"Name:\", name, \"Salary:\", salary)\n",
    "\n",
    "showEmployee(\"Ben\", 12000)\n",
    "showEmployee(\"Jessa\")"
   ]
  },
  {
   "cell_type": "markdown",
   "id": "30b71739",
   "metadata": {},
   "source": [
    "# Exercise 5: Create an inner function to calculate the addition in the following way"
   ]
  },
  {
   "cell_type": "markdown",
   "id": "84b4fa0d",
   "metadata": {},
   "source": [
    "Create an outer function that will accept two parameters, a and b ---\n",
    "Create an inner function inside an outer function that will calculate the addition of a and b ---\n",
    "At last, an outer function will add 5 into addition and return it"
   ]
  },
  {
   "cell_type": "code",
   "execution_count": 19,
   "id": "15d31692",
   "metadata": {},
   "outputs": [
    {
     "data": {
      "text/plain": [
       "20"
      ]
     },
     "execution_count": 19,
     "metadata": {},
     "output_type": "execute_result"
    }
   ],
   "source": [
    "def outer(a, b):\n",
    "\n",
    "    def addition(a, b):\n",
    "        return a + b\n",
    "\n",
    "    add = addition(a, b)\n",
    "\n",
    "    return add + 5\n",
    "\n",
    "outer(5, 10)\n"
   ]
  },
  {
   "cell_type": "markdown",
   "id": "a18fc3a6",
   "metadata": {},
   "source": [
    "# Exercise 6: Create a recursive function\n",
    "\n",
    "Write a program to create a recursive function to calculate the sum of numbers from 0 to 10.\n",
    "\n",
    "A recursive function is a function that calls itself again and again.\n",
    "\n"
   ]
  },
  {
   "cell_type": "code",
   "execution_count": 23,
   "id": "aa19e134",
   "metadata": {},
   "outputs": [
    {
     "name": "stdout",
     "output_type": "stream",
     "text": [
      "55\n"
     ]
    }
   ],
   "source": [
    "def add(num):\n",
    "    if num:\n",
    "        return num + add(num - 1)\n",
    "    else:\n",
    "        return 0\n",
    "\n",
    "res = add(10)\n",
    "\n",
    "print(res)"
   ]
  },
  {
   "cell_type": "markdown",
   "id": "cfb62469",
   "metadata": {},
   "source": [
    "# Exercise 7: Assign a different name to function and call it through the new name\n",
    "\n",
    "Below is the function display_student(name, age). Assign a new name show_tudent(name, age) to it and call it using the new name."
   ]
  },
  {
   "cell_type": "code",
   "execution_count": 25,
   "id": "528a1719",
   "metadata": {},
   "outputs": [
    {
     "name": "stdout",
     "output_type": "stream",
     "text": [
      "Emma 26\n",
      "Mert 27\n"
     ]
    }
   ],
   "source": [
    "def display_student(name, age):\n",
    "    print(name, age)\n",
    "\n",
    "display_student(\"Emma\", 26)\n",
    "\n",
    "show_student = display_student\n",
    "\n",
    "show_student(\"Mert\", 27)"
   ]
  },
  {
   "cell_type": "markdown",
   "id": "5b32c8f9",
   "metadata": {},
   "source": [
    "# Exercise 8: Generate a Python list of all the even numbers between 4 to 30"
   ]
  },
  {
   "cell_type": "code",
   "execution_count": 26,
   "id": "03c8e52c",
   "metadata": {},
   "outputs": [
    {
     "name": "stdout",
     "output_type": "stream",
     "text": [
      "[4, 6, 8, 10, 12, 14, 16, 18, 20, 22, 24, 26, 28]\n"
     ]
    }
   ],
   "source": [
    "print(list(range(4, 30, 2)))\n",
    "    \n",
    "    "
   ]
  },
  {
   "cell_type": "markdown",
   "id": "01f4c260",
   "metadata": {},
   "source": [
    "# Exercise 9: Find the largest item from a given list"
   ]
  },
  {
   "cell_type": "code",
   "execution_count": 28,
   "id": "38a45405",
   "metadata": {},
   "outputs": [
    {
     "name": "stdout",
     "output_type": "stream",
     "text": [
      "24\n"
     ]
    }
   ],
   "source": [
    "x = [4, 6, 8, 24, 12, 2]\n",
    "\n",
    "x = sorted(x)\n",
    "\n",
    "print(x[-1])\n",
    "\n",
    "#or print(max(x))"
   ]
  },
  {
   "cell_type": "markdown",
   "id": "f979e834",
   "metadata": {},
   "source": [
    "# Exercise 10: Suggest Footwear\n",
    "Write a program that will give suggested footwear based on the weather.\n",
    "Ask the user for the weather outside with three options (sunny, rainy, or snowy) and give the correct footwear suggestion (sneaker, gumboot, or boots). Each option should be written as its own function that prints a message based on the input. "
   ]
  },
  {
   "cell_type": "code",
   "execution_count": 31,
   "id": "81a4784e",
   "metadata": {},
   "outputs": [
    {
     "name": "stdout",
     "output_type": "stream",
     "text": [
      "Whats the weather today:rainy\n",
      "Oops! its raining, better wear gumbot\n"
     ]
    }
   ],
   "source": [
    "def sunny():\n",
    "    print(\"It is sunny day, good to wear sneaker!\")\n",
    "def rainy():\n",
    "    print(\"Oops! its raining, better wear gumbot\")\n",
    "def snowy():\n",
    "    print(\"Wow! its snowing, better wear boot\")\n",
    "weather_today = input(\"Whats the weather today:\")\n",
    "if weather_today == \"sunny\":\n",
    "    sunny()\n",
    "elif weather_today == \"rainy\":\n",
    "    rainy()\n",
    "elif weather_today == \"snowy\":\n",
    "    snowy()\n",
    "else:\n",
    "    print(f\"No footwear available for\",weather_today)"
   ]
  },
  {
   "cell_type": "markdown",
   "id": "40b24b5d",
   "metadata": {},
   "source": [
    "# Exercise 11: Write a function that inputs a number and prints the multiplication table of that number"
   ]
  },
  {
   "cell_type": "code",
   "execution_count": 33,
   "id": "904dd55b",
   "metadata": {},
   "outputs": [
    {
     "name": "stdout",
     "output_type": "stream",
     "text": [
      "9 * 1 = 9\n",
      "9 * 2 = 18\n",
      "9 * 3 = 27\n",
      "9 * 4 = 36\n",
      "9 * 5 = 45\n",
      "9 * 6 = 54\n",
      "9 * 7 = 63\n",
      "9 * 8 = 72\n",
      "9 * 9 = 81\n",
      "9 * 10 = 90\n"
     ]
    }
   ],
   "source": [
    "def multi(num):\n",
    "    for i in range(1, 11):\n",
    "        print(\"{multiplier} * {multiplicand} = {multiplicantion}\".format(\n",
    "            multiplier=num, multiplicand=i, multiplicantion=num * i))\n",
    "\n",
    "multi(9)"
   ]
  },
  {
   "cell_type": "markdown",
   "id": "f3b7c413",
   "metadata": {},
   "source": [
    "# Exercise 12: Write a program to print twin primes less than 1000. If two consecutive odd numbers are both prime then they are known as twin primes"
   ]
  },
  {
   "cell_type": "code",
   "execution_count": 34,
   "id": "a34fcc68",
   "metadata": {},
   "outputs": [
    {
     "name": "stdout",
     "output_type": "stream",
     "text": [
      "Twin Prime: \n",
      " 3 and 5\n",
      " 5 and 7\n",
      " 11 and 13\n",
      " 17 and 19\n",
      " 29 and 31\n",
      " 41 and 43\n",
      " 59 and 61\n",
      " 71 and 73\n",
      " 101 and 103\n",
      " 107 and 109\n",
      " 137 and 139\n",
      " 149 and 151\n",
      " 179 and 181\n",
      " 191 and 193\n",
      " 197 and 199\n",
      " 227 and 229\n",
      " 239 and 241\n",
      " 269 and 271\n",
      " 281 and 283\n",
      " 311 and 313\n",
      " 347 and 349\n",
      " 419 and 421\n",
      " 431 and 433\n",
      " 461 and 463\n",
      " 521 and 523\n",
      " 569 and 571\n",
      " 599 and 601\n",
      " 617 and 619\n",
      " 641 and 643\n",
      " 659 and 661\n",
      " 809 and 811\n",
      " 821 and 823\n",
      " 827 and 829\n",
      " 857 and 859\n",
      " 881 and 883\n"
     ]
    }
   ],
   "source": [
    "def checkPrime(max_num):\n",
    "\n",
    "    for num in range (2, max_num):\n",
    "        if max_num % num == 0:\n",
    "            return False\n",
    "    return True\n",
    "\n",
    "def twinPrime(max_num):\n",
    "    \n",
    "    for first_num in range(2, max_num):\n",
    "        second_num = first_num + 2\n",
    "        if (checkPrime(first_num) and checkPrime(second_num)):\n",
    "            print(\" {0} and {1}\".format(first_num, second_num))\n",
    "\n",
    "print(\"Twin Prime: \")\n",
    "twinPrime(1000)"
   ]
  },
  {
   "cell_type": "markdown",
   "id": "e2a4d719",
   "metadata": {},
   "source": [
    "# Exercise 13: Write a program to find out the prime factors of a number. \n",
    "Example: prime factors of 56 --> 2, 2, 2, 7"
   ]
  },
  {
   "cell_type": "code",
   "execution_count": 35,
   "id": "c4c1f8f6",
   "metadata": {},
   "outputs": [
    {
     "data": {
      "text/plain": [
       "[2, 2, 2, 7]"
      ]
     },
     "execution_count": 35,
     "metadata": {},
     "output_type": "execute_result"
    }
   ],
   "source": [
    "import math\n",
    "\n",
    "prime_list = []\n",
    "\n",
    "def primeFactors(num):\n",
    "    \n",
    "    while num % 2 == 0:\n",
    "        prime_list.append(2)\n",
    "        num = num/2\n",
    "        \n",
    "    for i in range(3, int(math.sqrt(num))+1, 2):\n",
    "        while num%i == 0:\n",
    "            prime_list.append(i)\n",
    "            num = num/i\n",
    "\n",
    "    if num > 2:\n",
    "        num = int(num)\n",
    "        prime_list.append(num)\n",
    "    return prime_list\n",
    "        \n",
    "primeFactors(56)"
   ]
  },
  {
   "cell_type": "markdown",
   "id": "85b7eaab",
   "metadata": {},
   "source": [
    "# Exercise 14: Write a function that converts a decimal number to binary number"
   ]
  },
  {
   "cell_type": "code",
   "execution_count": 37,
   "id": "1bf91d4f",
   "metadata": {},
   "outputs": [
    {
     "name": "stdout",
     "output_type": "stream",
     "text": [
      "10010001"
     ]
    }
   ],
   "source": [
    "def decToBin(num):\n",
    "    if num > 1:\n",
    "        decToBin(num//2)\n",
    "    print(num % 2, end=\"\")\n",
    "        \n",
    "decToBin(145)"
   ]
  },
  {
   "cell_type": "markdown",
   "id": "b4570137",
   "metadata": {},
   "source": [
    "# Exercise 15: Write a function prodDigits() that inputs a number and returns the product of digits of that number."
   ]
  },
  {
   "cell_type": "code",
   "execution_count": 38,
   "id": "743e050e",
   "metadata": {},
   "outputs": [
    {
     "name": "stdout",
     "output_type": "stream",
     "text": [
      "Product of all digits of 54 is: 20\n"
     ]
    }
   ],
   "source": [
    "def prodDigit(num):\n",
    "\n",
    "    temp = num\n",
    "    prod = 1\n",
    "    \n",
    "    while temp > 0:\n",
    "        digit = temp % 10\n",
    "        prod *= digit\n",
    "        temp //= 10\n",
    "    \n",
    "    return prod\n",
    "\n",
    "num = 54\n",
    "print(\"Product of all digits of {0} is: {1}\".format(num, prodDigit(num)))\n"
   ]
  },
  {
   "cell_type": "code",
   "execution_count": null,
   "id": "8774589f",
   "metadata": {},
   "outputs": [],
   "source": []
  }
 ],
 "metadata": {
  "kernelspec": {
   "display_name": "Python 3 (ipykernel)",
   "language": "python",
   "name": "python3"
  },
  "language_info": {
   "codemirror_mode": {
    "name": "ipython",
    "version": 3
   },
   "file_extension": ".py",
   "mimetype": "text/x-python",
   "name": "python",
   "nbconvert_exporter": "python",
   "pygments_lexer": "ipython3",
   "version": "3.11.5"
  }
 },
 "nbformat": 4,
 "nbformat_minor": 5
}
